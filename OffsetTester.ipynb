{
 "cells": [
  {
   "cell_type": "code",
   "execution_count": 14,
   "id": "a58c535c",
   "metadata": {},
   "outputs": [
    {
     "name": "stdout",
     "output_type": "stream",
     "text": [
      "   Shift  ColA  ColB  ColC  ColD  ColE  ColF  ColG  ColH  ColI  ColJ\n",
      "0      5   6.0   7.0   8.0   9.0  10.0   NaN   NaN   NaN   NaN   NaN\n",
      "1      4   5.0   6.0   7.0   8.0   9.0  11.0   NaN   NaN   NaN   NaN\n",
      "2      3   4.0   5.0   6.0   7.0   8.0   9.0  12.0   NaN   NaN   NaN\n",
      "3      2   3.0   4.0   5.0   6.0   7.0   8.0   9.0  13.0   NaN   NaN\n",
      "4      1   2.0   3.0   4.0   5.0   6.0   7.0   8.0   9.0  14.0   NaN\n"
     ]
    }
   ],
   "source": [
    "df.iloc[:,1:] = df.apply(lambda x: x.iloc[1:].shift(-x.loc['Shift']),axis=1,result_type='expand')\n",
    "print(df)"
   ]
  },
  {
   "cell_type": "code",
   "execution_count": 17,
   "id": "d2c40a1b",
   "metadata": {
    "scrolled": true
   },
   "outputs": [
    {
     "name": "stdout",
     "output_type": "stream",
     "text": [
      "   Shift  ColA  ColB  ColC  ColD  ColE  ColF  ColG  ColH  ColI  ColJ\n",
      "0      5     1     2     3     4     5     6     7     8     9    10\n",
      "1      4     1     2     3     4     5     6     7     8     9    11\n",
      "2      3     1     2     3     4     5     6     7     8     9    12\n",
      "3      2     1     2     3     4     5     6     7     8     9    13\n",
      "4      1     1     2     3     4     5     6     7     8     9    14\n"
     ]
    }
   ],
   "source": [
    "import pandas as pd\n",
    "import numpy as np\n",
    "df = pd.read_excel('OffsetTester.xlsx')\n",
    "print(df)"
   ]
  },
  {
   "cell_type": "code",
   "execution_count": 18,
   "id": "88c26c6a",
   "metadata": {},
   "outputs": [
    {
     "name": "stdout",
     "output_type": "stream",
     "text": [
      "   Shift  ColA  ColB  ColC  ColD  ColE  ColF  ColG  ColH  ColI  ColJ\n",
      "0      5   6.0   7.0   8.0   9.0  10.0   NaN   NaN   NaN   NaN   NaN\n",
      "1      4   5.0   6.0   7.0   8.0   9.0  11.0   NaN   NaN   NaN   NaN\n",
      "2      3   4.0   5.0   6.0   7.0   8.0   9.0  12.0   NaN   NaN   NaN\n",
      "3      2   3.0   4.0   5.0   6.0   7.0   8.0   9.0  13.0   NaN   NaN\n",
      "4      1   2.0   3.0   4.0   5.0   6.0   7.0   8.0   9.0  14.0   NaN\n"
     ]
    }
   ],
   "source": [
    "df.iloc[:,1:] = df.apply(lambda x: x.iloc[1:].shift(-x.loc['Shift']),axis=1,result_type='expand')\n",
    "print(df)"
   ]
  },
  {
   "cell_type": "code",
   "execution_count": null,
   "id": "7bff3b27",
   "metadata": {},
   "outputs": [],
   "source": []
  }
 ],
 "metadata": {
  "kernelspec": {
   "display_name": "Python 3 (ipykernel)",
   "language": "python",
   "name": "python3"
  },
  "language_info": {
   "codemirror_mode": {
    "name": "ipython",
    "version": 3
   },
   "file_extension": ".py",
   "mimetype": "text/x-python",
   "name": "python",
   "nbconvert_exporter": "python",
   "pygments_lexer": "ipython3",
   "version": "3.9.12"
  }
 },
 "nbformat": 4,
 "nbformat_minor": 5
}

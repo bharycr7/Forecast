{
 "cells": [
  {
   "cell_type": "code",
   "execution_count": 52,
   "id": "56e07cf2",
   "metadata": {},
   "outputs": [
    {
     "name": "stdout",
     "output_type": "stream",
     "text": [
      "Ok\n"
     ]
    }
   ],
   "source": [
    "import pandas as pd\n",
    "import numpy as np\n",
    "\n",
    "#Load Import File\n",
    "data_fp = str((\"/Users/bkanchipurambaburavi/Downloads/CPModel.xlsx\"))\n",
    "data_file = pd.ExcelFile(data_fp)\n",
    "Harness = pd.read_excel(data_file, sheet_name='Pricing')\n",
    "print(\"Ok\")\n"
   ]
  },
  {
   "cell_type": "code",
   "execution_count": 53,
   "id": "da0c719a",
   "metadata": {
    "scrolled": false
   },
   "outputs": [
    {
     "name": "stdout",
     "output_type": "stream",
     "text": [
      "            TPN        MPN Manufacturer Unit Price\n",
      "0  1015019-00-A  1326030-3          AMP        NaN\n",
      "1  1015197-00-A  150-31091           HT        NaN\n",
      "2  1015206-01-A  156-00874           HT        NaN\n",
      "3  1015207-00-A  156-00011           HT        NaN\n",
      "4  1015212-00-A  156-05903           HT        NaN\n",
      "['TPN', 'MPN', 'Manufacturer', 'Unit Price']\n"
     ]
    }
   ],
   "source": [
    "print(Harness.head())\n",
    "\n",
    "print(list(Harness.columns))"
   ]
  },
  {
   "cell_type": "code",
   "execution_count": 54,
   "id": "69c659df",
   "metadata": {
    "scrolled": true
   },
   "outputs": [
    {
     "name": "stdout",
     "output_type": "stream",
     "text": [
      "107\n"
     ]
    }
   ],
   "source": [
    "#Data Summary for each suppliers\n",
    "#fixing supplier names\n",
    "Harness = Harness.replace('AMP','TE')\n",
    "Harness = Harness.replace('FCI','AMPHENOL')\n",
    "Harness = Harness.replace('SUZHOU-RECODEAL','RECODEAL')\n",
    "Harness = Harness.replace('DELPHI','APTIV')\n",
    "Harness = Harness.replace('KUM','APTIV')\n",
    "Harness = Harness.replace('KS TERMINALS','KST')\n",
    "Harness = Harness.replace('ROYAL_POWER_SOLUTIONS','ROYAL PS')\n",
    "Harness = Harness.replace('ROYAL','ROYAL PS')\n",
    "\n",
    "\n",
    "print(len(Harness['Manufacturer'].unique()))"
   ]
  },
  {
   "cell_type": "code",
   "execution_count": 55,
   "id": "9c9d777b",
   "metadata": {
    "scrolled": false
   },
   "outputs": [
    {
     "name": "stdout",
     "output_type": "stream",
     "text": [
      "['TE' 'HT' 'MOLEX' 'SUMITOMO' 'DAIWA' 'APTIV' 'PER' nan 'YAZAKI'\n",
      " 'AMPHENOL' 'TESLA' 'HIRSCHMANN' 'ARAYMOND' 'ROBININDUSTRIES' 'RITUS'\n",
      " 'KET' 'POPPELMANN' 'KSE' 'JST' 'YOSUN' 'FRAENKISCHE' 'BLOVELIGHT' 'FEP'\n",
      " 'FONG_CHEN' 'THAISUMMIT' 'JAE' 'ITW' 'TOKAI-RIKA' 'SCHLEMMER' 'TAI_TECH'\n",
      " 'BOLTUN' 'AAG_GROUP_LTD' 'WOCO' 'RECODEAL' 'TYZ-ALL' 'CPT' 'BOSCH' 'LEAR'\n",
      " 'HENKEL' 'THB' 'FAIR-RITE' 'EIS' 'HIROSE' 'KOSTAL' 'ROSENBERGER' 'NITTO'\n",
      " 'FORMTECH' 'NYE' 'SUZHOU' 'ROYAL' 'JONHON' 'QSR' 'GEN' 'PIA' 'TRW'\n",
      " 'BIZLINK' 'UNITED' 'SCAPA' 'EMHART' 'CAPLUGS' 'PLASTIMAT' 'THB_ZHONGAN'\n",
      " 'TONGYINGELECTRONICS' 'FDJ' 'RSD' 'SHANGHAI_CHENGDA' 'INTERPLEX'\n",
      " 'NINGBO_SCHLEMMER' 'LUXSHARE' 'BOSSARD' 'SEKSUN' 'TENNECO' 'CREATECH'\n",
      " 'DLHBOWLES' 'IRISO' 'KST' 'VISHAY' 'AXIOM' 'LITTELFUSE' 'FAURECIA'\n",
      " 'MEGATECH' 'NYX' 'CHIEF' 'KS' 'VOLEX' 'SAMTEC' 'KEYSTONE' 'PHOENIX'\n",
      " 'FOXLINK' 'YAMAICHI' 'TIANLI' 'HALO' 'TTM' 'HARWIN' 'PLUG' 'SHIH-CHUAN'\n",
      " 'KYOCERAAVX' 'PULSE' 'TTI' 'EATON' 'WURTH' 'UDE' 'I-PEX' 'BEL'\n",
      " 'INFASTECH' 'LUCHSARE' 'REMOVE']\n",
      "107\n"
     ]
    }
   ],
   "source": [
    "Harness[['Manufacturer','Remove']] = Harness['Manufacturer'].str.split(' ', n=1, expand=True)\n",
    "manufacturer = Harness['Manufacturer'].unique()\n",
    "print(manufacturer)\n",
    "n = len(manufacturer)\n",
    "print(n)\n"
   ]
  },
  {
   "cell_type": "code",
   "execution_count": 26,
   "id": "f1b4f934",
   "metadata": {},
   "outputs": [
    {
     "name": "stdout",
     "output_type": "stream",
     "text": [
      "Please enter output file name:\n",
      "Component_Pricing_\n",
      "Saved\n"
     ]
    }
   ],
   "source": [
    "fp = str(input(\"Please enter output file name:\\n\"))\n",
    "\n",
    "\n",
    "with pd.ExcelWriter(fp + '.xlsx') as writer:\n",
    "    Harness.to_excel(writer, index=False, sheet_name='Pricing')\n",
    "    #for i in range(0,n):\n",
    "        #tsla_forecast[tsla_forecast.Manufacturer == 'Harness Forecast_Sep_'+str(manufacturer[i])].to_excel(writer, index=False, sheet_name=str(manufacturer[i]))\n",
    "\n",
    "for i in range(0,n):\n",
    "    with pd.ExcelWriter(fp + str(manufacturer[i]) + '.xlsx') as writer:\n",
    "        Harness[Harness.Manufacturer == str(manufacturer[i])].to_excel(writer, index=False, sheet_name=str(manufacturer[i]))\n",
    "        \n",
    "    \n",
    "print('Saved')"
   ]
  }
 ],
 "metadata": {
  "kernelspec": {
   "display_name": "Python 3 (ipykernel)",
   "language": "python",
   "name": "python3"
  },
  "language_info": {
   "codemirror_mode": {
    "name": "ipython",
    "version": 3
   },
   "file_extension": ".py",
   "mimetype": "text/x-python",
   "name": "python",
   "nbconvert_exporter": "python",
   "pygments_lexer": "ipython3",
   "version": "3.9.12"
  }
 },
 "nbformat": 4,
 "nbformat_minor": 5
}
